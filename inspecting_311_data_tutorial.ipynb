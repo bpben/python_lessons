{
 "cells": [
  {
   "cell_type": "markdown",
   "metadata": {},
   "source": [
    "## April showers bring 311 complaints?\n",
    "In this notebook, I'll be running through a simple analysis to answer the question:\n",
    "\n",
    "_Are there more 311 complaints on rainy days versus clear days?_\n",
    "\n",
    " - [Retrieve data](#ret)\n",
    " - [Obtain data from Wunderground](#obt)\n",
    " - [Joining](#joi)\n",
    " - [Test](#tes)"
   ]
  },
  {
   "cell_type": "markdown",
   "metadata": {},
   "source": [
    "### <a name='ret'></a>Retrieve data from Boston Open Data Portal\n",
    "In order to do this, we will need to import the requests module, which will allow us to sent API requests to the Socrata API (which holds Boston's Open Data).  The `import` function allows us to do that.  It makes sense, in a notebook, to separate the import function from the rest of the code, otherwise we will be re-running import every time we run the cell"
   ]
  },
  {
   "cell_type": "code",
   "execution_count": 1,
   "metadata": {
    "collapsed": true
   },
   "outputs": [],
   "source": [
    "import requests"
   ]
  },
  {
   "cell_type": "markdown",
   "metadata": {},
   "source": [
    "A quick google search gets us to the Boston Open Data Portal, which has an API endpoint for 311 requests at https://data.cityofboston.gov/resource/wc8w-nujj.json . Let's get 100k rows using the limit syntax in the SODA API"
   ]
  },
  {
   "cell_type": "code",
   "execution_count": 2,
   "metadata": {
    "collapsed": false
   },
   "outputs": [],
   "source": [
    "# Query from open data\n",
    "url = 'https://data.cityofboston.gov/resource/wc8w-nujj.json?$limit=100000'\n",
    "response = requests.get(url)"
   ]
  },
  {
   "cell_type": "markdown",
   "metadata": {},
   "source": [
    "Now that we've stored the result of the request in the `response` variable, we can use the .read() method to retrieve the data and insert it into a pandas dataframe.  A dataframe is simply a structure that's easier to manipulate and perform typical data analyses on.\n",
    "\n",
    "First we'll have to `import` pandas.  Here I specify the alias pd, just because I don't want to keep writing out pandas.  Then, we can use panda's handy `.read_json()` method to read the response (which is in JSON format)"
   ]
  },
  {
   "cell_type": "code",
   "execution_count": 3,
   "metadata": {
    "collapsed": true
   },
   "outputs": [],
   "source": [
    "import pandas as pd"
   ]
  },
  {
   "cell_type": "code",
   "execution_count": 4,
   "metadata": {
    "collapsed": false
   },
   "outputs": [],
   "source": [
    "df = pd.read_json(response.content)"
   ]
  },
  {
   "cell_type": "markdown",
   "metadata": {},
   "source": [
    "### <a name='dat'></a>Data exploration\n",
    "\n",
    "Let's take a look that the dataframe looks how we expect.  `.head()` and `.tail()` are helpful methods for getting a quick peek at the data.  The `.columns` attribute allows us to look at list of columns.  The `.describe()` method gives us some easy stats for numerical columns and the `.info()` method allows us to look at the data types and missing values"
   ]
  },
  {
   "cell_type": "code",
   "execution_count": 5,
   "metadata": {
    "collapsed": false
   },
   "outputs": [
    {
     "data": {
      "text/html": [
       "<div>\n",
       "<table border=\"1\" class=\"dataframe\">\n",
       "  <thead>\n",
       "    <tr style=\"text-align: right;\">\n",
       "      <th></th>\n",
       "      <th>case_enquiry_id</th>\n",
       "      <th>case_status</th>\n",
       "      <th>case_title</th>\n",
       "      <th>city_council_district</th>\n",
       "      <th>closed_dt</th>\n",
       "      <th>closedphoto</th>\n",
       "      <th>closure_reason</th>\n",
       "      <th>department</th>\n",
       "      <th>fire_district</th>\n",
       "      <th>geocoded_location</th>\n",
       "      <th>...</th>\n",
       "      <th>property_type</th>\n",
       "      <th>pwd_district</th>\n",
       "      <th>queue</th>\n",
       "      <th>reason</th>\n",
       "      <th>source</th>\n",
       "      <th>subject</th>\n",
       "      <th>submittedphoto</th>\n",
       "      <th>target_dt</th>\n",
       "      <th>type</th>\n",
       "      <th>ward</th>\n",
       "    </tr>\n",
       "  </thead>\n",
       "  <tbody>\n",
       "    <tr>\n",
       "      <th>0</th>\n",
       "      <td>101000326378</td>\n",
       "      <td>Closed</td>\n",
       "      <td>Schedule a Bulk Item Pickup</td>\n",
       "      <td>9.0</td>\n",
       "      <td>2011-09-08T09:33:21.000</td>\n",
       "      <td>NaN</td>\n",
       "      <td>Case Closed Case Scheduled Items have been sch...</td>\n",
       "      <td>PWDx</td>\n",
       "      <td>11.0</td>\n",
       "      <td>{u'type': u'Point', u'coordinates': [-71.1517,...</td>\n",
       "      <td>...</td>\n",
       "      <td>Address</td>\n",
       "      <td>04</td>\n",
       "      <td>PWDx_Schedule a Bulk Item Pickup</td>\n",
       "      <td>Sanitation</td>\n",
       "      <td>Self Service</td>\n",
       "      <td>Public Works Department</td>\n",
       "      <td>NaN</td>\n",
       "      <td>2011-09-12T09:29:08.000</td>\n",
       "      <td>Schedule a Bulk Item Pickup</td>\n",
       "      <td>Ward 22</td>\n",
       "    </tr>\n",
       "    <tr>\n",
       "      <th>1</th>\n",
       "      <td>101001322573</td>\n",
       "      <td>Closed</td>\n",
       "      <td>Request for Snow Plowing</td>\n",
       "      <td>1.0</td>\n",
       "      <td>2015-04-03T12:54:45.000</td>\n",
       "      <td>NaN</td>\n",
       "      <td>Case Closed Case Noted</td>\n",
       "      <td>PWDx</td>\n",
       "      <td>3.0</td>\n",
       "      <td>{u'type': u'Point', u'coordinates': [-71.0565,...</td>\n",
       "      <td>...</td>\n",
       "      <td>Address</td>\n",
       "      <td>1B</td>\n",
       "      <td>PWDx_District 1B: North End</td>\n",
       "      <td>Street Cleaning</td>\n",
       "      <td>Constituent Call</td>\n",
       "      <td>Public Works Department</td>\n",
       "      <td>NaN</td>\n",
       "      <td>2015-03-05T11:25:08.000</td>\n",
       "      <td>Request for Snow Plowing</td>\n",
       "      <td>Ward 3</td>\n",
       "    </tr>\n",
       "    <tr>\n",
       "      <th>2</th>\n",
       "      <td>101000902663</td>\n",
       "      <td>Closed</td>\n",
       "      <td>Street Light Outages</td>\n",
       "      <td>1.0</td>\n",
       "      <td>2013-08-22T09:28:24.000</td>\n",
       "      <td>NaN</td>\n",
       "      <td>Case Closed Duplicate of Existing Case Gave to...</td>\n",
       "      <td>PWDx</td>\n",
       "      <td>3.0</td>\n",
       "      <td>{u'type': u'Point', u'coordinates': [-71.0565,...</td>\n",
       "      <td>...</td>\n",
       "      <td>Intersection</td>\n",
       "      <td>1C</td>\n",
       "      <td>PWDx_Street Light Outages</td>\n",
       "      <td>Street Lights</td>\n",
       "      <td>Maximo Integration</td>\n",
       "      <td>Public Works Department</td>\n",
       "      <td>NaN</td>\n",
       "      <td>2013-08-29T12:59:01.000</td>\n",
       "      <td>Street Light Outages</td>\n",
       "      <td>Ward 3</td>\n",
       "    </tr>\n",
       "    <tr>\n",
       "      <th>3</th>\n",
       "      <td>101001903510</td>\n",
       "      <td>Closed</td>\n",
       "      <td>Improper Storage of Trash (Barrels)</td>\n",
       "      <td>2.0</td>\n",
       "      <td>2016-09-08T17:55:10.000</td>\n",
       "      <td>NaN</td>\n",
       "      <td>Case Closed. Closed date : 2016-09-08 17:55:10...</td>\n",
       "      <td>PWDx</td>\n",
       "      <td>6.0</td>\n",
       "      <td>{u'type': u'Point', u'coordinates': [-71.053, ...</td>\n",
       "      <td>...</td>\n",
       "      <td>Address</td>\n",
       "      <td>05</td>\n",
       "      <td>PWDx_Code Enforcement</td>\n",
       "      <td>Code Enforcement</td>\n",
       "      <td>Citizens Connect App</td>\n",
       "      <td>Public Works Department</td>\n",
       "      <td>https://mayors24.cityofboston.gov/media/boston...</td>\n",
       "      <td>2016-09-12T15:51:43.000</td>\n",
       "      <td>Improper Storage of Trash (Barrels)</td>\n",
       "      <td>Ward 6</td>\n",
       "    </tr>\n",
       "    <tr>\n",
       "      <th>4</th>\n",
       "      <td>101001038153</td>\n",
       "      <td>Closed</td>\n",
       "      <td>Pothole Repair (Internal)</td>\n",
       "      <td>7.0</td>\n",
       "      <td>2014-02-28T10:39:39.000</td>\n",
       "      <td>NaN</td>\n",
       "      <td>Case Closed Internal Case Performed by Highway...</td>\n",
       "      <td>PWDx</td>\n",
       "      <td>9.0</td>\n",
       "      <td>{u'type': u'Point', u'coordinates': [-71.0877,...</td>\n",
       "      <td>...</td>\n",
       "      <td>Address</td>\n",
       "      <td>10B</td>\n",
       "      <td>PWDx_District 10B: Roxbury</td>\n",
       "      <td>Highway Maintenance</td>\n",
       "      <td>Employee Generated</td>\n",
       "      <td>Public Works Department</td>\n",
       "      <td>NaN</td>\n",
       "      <td>NaN</td>\n",
       "      <td>Pothole Repair (Internal)</td>\n",
       "      <td>12</td>\n",
       "    </tr>\n",
       "  </tbody>\n",
       "</table>\n",
       "<p>5 rows × 33 columns</p>\n",
       "</div>"
      ],
      "text/plain": [
       "   case_enquiry_id case_status                           case_title  \\\n",
       "0     101000326378      Closed          Schedule a Bulk Item Pickup   \n",
       "1     101001322573      Closed             Request for Snow Plowing   \n",
       "2     101000902663      Closed                 Street Light Outages   \n",
       "3     101001903510      Closed  Improper Storage of Trash (Barrels)   \n",
       "4     101001038153      Closed            Pothole Repair (Internal)   \n",
       "\n",
       "   city_council_district                closed_dt closedphoto  \\\n",
       "0                    9.0  2011-09-08T09:33:21.000         NaN   \n",
       "1                    1.0  2015-04-03T12:54:45.000         NaN   \n",
       "2                    1.0  2013-08-22T09:28:24.000         NaN   \n",
       "3                    2.0  2016-09-08T17:55:10.000         NaN   \n",
       "4                    7.0  2014-02-28T10:39:39.000         NaN   \n",
       "\n",
       "                                      closure_reason department  \\\n",
       "0  Case Closed Case Scheduled Items have been sch...       PWDx   \n",
       "1                             Case Closed Case Noted       PWDx   \n",
       "2  Case Closed Duplicate of Existing Case Gave to...       PWDx   \n",
       "3  Case Closed. Closed date : 2016-09-08 17:55:10...       PWDx   \n",
       "4  Case Closed Internal Case Performed by Highway...       PWDx   \n",
       "\n",
       "   fire_district                                  geocoded_location   ...     \\\n",
       "0           11.0  {u'type': u'Point', u'coordinates': [-71.1517,...   ...      \n",
       "1            3.0  {u'type': u'Point', u'coordinates': [-71.0565,...   ...      \n",
       "2            3.0  {u'type': u'Point', u'coordinates': [-71.0565,...   ...      \n",
       "3            6.0  {u'type': u'Point', u'coordinates': [-71.053, ...   ...      \n",
       "4            9.0  {u'type': u'Point', u'coordinates': [-71.0877,...   ...      \n",
       "\n",
       "  property_type  pwd_district                             queue  \\\n",
       "0       Address            04  PWDx_Schedule a Bulk Item Pickup   \n",
       "1       Address            1B       PWDx_District 1B: North End   \n",
       "2  Intersection            1C         PWDx_Street Light Outages   \n",
       "3       Address            05             PWDx_Code Enforcement   \n",
       "4       Address           10B        PWDx_District 10B: Roxbury   \n",
       "\n",
       "                reason                source                  subject  \\\n",
       "0           Sanitation          Self Service  Public Works Department   \n",
       "1      Street Cleaning      Constituent Call  Public Works Department   \n",
       "2        Street Lights    Maximo Integration  Public Works Department   \n",
       "3     Code Enforcement  Citizens Connect App  Public Works Department   \n",
       "4  Highway Maintenance    Employee Generated  Public Works Department   \n",
       "\n",
       "                                      submittedphoto                target_dt  \\\n",
       "0                                                NaN  2011-09-12T09:29:08.000   \n",
       "1                                                NaN  2015-03-05T11:25:08.000   \n",
       "2                                                NaN  2013-08-29T12:59:01.000   \n",
       "3  https://mayors24.cityofboston.gov/media/boston...  2016-09-12T15:51:43.000   \n",
       "4                                                NaN                      NaN   \n",
       "\n",
       "                                  type     ward  \n",
       "0          Schedule a Bulk Item Pickup  Ward 22  \n",
       "1             Request for Snow Plowing   Ward 3  \n",
       "2                 Street Light Outages   Ward 3  \n",
       "3  Improper Storage of Trash (Barrels)   Ward 6  \n",
       "4            Pothole Repair (Internal)       12  \n",
       "\n",
       "[5 rows x 33 columns]"
      ]
     },
     "execution_count": 5,
     "metadata": {},
     "output_type": "execute_result"
    }
   ],
   "source": [
    "df.head()"
   ]
  },
  {
   "cell_type": "code",
   "execution_count": 6,
   "metadata": {
    "collapsed": false
   },
   "outputs": [
    {
     "data": {
      "text/html": [
       "<div>\n",
       "<table border=\"1\" class=\"dataframe\">\n",
       "  <thead>\n",
       "    <tr style=\"text-align: right;\">\n",
       "      <th></th>\n",
       "      <th>case_enquiry_id</th>\n",
       "      <th>city_council_district</th>\n",
       "      <th>fire_district</th>\n",
       "      <th>latitude</th>\n",
       "      <th>location_zipcode</th>\n",
       "      <th>longitude</th>\n",
       "      <th>neighborhood_services_district</th>\n",
       "      <th>property_id</th>\n",
       "    </tr>\n",
       "  </thead>\n",
       "  <tbody>\n",
       "    <tr>\n",
       "      <th>count</th>\n",
       "      <td>1.000000e+05</td>\n",
       "      <td>95689.000000</td>\n",
       "      <td>95354.000000</td>\n",
       "      <td>100000.000000</td>\n",
       "      <td>76719.000000</td>\n",
       "      <td>100000.000000</td>\n",
       "      <td>95689.000000</td>\n",
       "      <td>95718.000000</td>\n",
       "    </tr>\n",
       "    <tr>\n",
       "      <th>mean</th>\n",
       "      <td>1.010012e+11</td>\n",
       "      <td>4.644745</td>\n",
       "      <td>7.152568</td>\n",
       "      <td>42.326229</td>\n",
       "      <td>2127.405780</td>\n",
       "      <td>-71.084240</td>\n",
       "      <td>8.917963</td>\n",
       "      <td>105053.528208</td>\n",
       "    </tr>\n",
       "    <tr>\n",
       "      <th>std</th>\n",
       "      <td>5.070114e+05</td>\n",
       "      <td>2.565429</td>\n",
       "      <td>3.264007</td>\n",
       "      <td>0.034901</td>\n",
       "      <td>18.057572</td>\n",
       "      <td>0.035997</td>\n",
       "      <td>4.191097</td>\n",
       "      <td>100520.837971</td>\n",
       "    </tr>\n",
       "    <tr>\n",
       "      <th>min</th>\n",
       "      <td>1.010003e+11</td>\n",
       "      <td>0.000000</td>\n",
       "      <td>1.000000</td>\n",
       "      <td>42.232100</td>\n",
       "      <td>2108.000000</td>\n",
       "      <td>-71.181800</td>\n",
       "      <td>0.000000</td>\n",
       "      <td>1.000000</td>\n",
       "    </tr>\n",
       "    <tr>\n",
       "      <th>25%</th>\n",
       "      <td>1.010008e+11</td>\n",
       "      <td>2.000000</td>\n",
       "      <td>4.000000</td>\n",
       "      <td>42.295400</td>\n",
       "      <td>2121.000000</td>\n",
       "      <td>-71.108900</td>\n",
       "      <td>6.000000</td>\n",
       "      <td>17076.250000</td>\n",
       "    </tr>\n",
       "    <tr>\n",
       "      <th>50%</th>\n",
       "      <td>1.010012e+11</td>\n",
       "      <td>5.000000</td>\n",
       "      <td>7.000000</td>\n",
       "      <td>42.333500</td>\n",
       "      <td>2126.000000</td>\n",
       "      <td>-71.074300</td>\n",
       "      <td>10.000000</td>\n",
       "      <td>84764.500000</td>\n",
       "    </tr>\n",
       "    <tr>\n",
       "      <th>75%</th>\n",
       "      <td>1.010017e+11</td>\n",
       "      <td>7.000000</td>\n",
       "      <td>9.000000</td>\n",
       "      <td>42.359000</td>\n",
       "      <td>2131.000000</td>\n",
       "      <td>-71.058700</td>\n",
       "      <td>13.000000</td>\n",
       "      <td>147539.750000</td>\n",
       "    </tr>\n",
       "    <tr>\n",
       "      <th>max</th>\n",
       "      <td>1.010020e+11</td>\n",
       "      <td>9.000000</td>\n",
       "      <td>12.000000</td>\n",
       "      <td>42.395200</td>\n",
       "      <td>2467.000000</td>\n",
       "      <td>-70.995900</td>\n",
       "      <td>15.000000</td>\n",
       "      <td>419843.000000</td>\n",
       "    </tr>\n",
       "  </tbody>\n",
       "</table>\n",
       "</div>"
      ],
      "text/plain": [
       "       case_enquiry_id  city_council_district  fire_district       latitude  \\\n",
       "count     1.000000e+05           95689.000000   95354.000000  100000.000000   \n",
       "mean      1.010012e+11               4.644745       7.152568      42.326229   \n",
       "std       5.070114e+05               2.565429       3.264007       0.034901   \n",
       "min       1.010003e+11               0.000000       1.000000      42.232100   \n",
       "25%       1.010008e+11               2.000000       4.000000      42.295400   \n",
       "50%       1.010012e+11               5.000000       7.000000      42.333500   \n",
       "75%       1.010017e+11               7.000000       9.000000      42.359000   \n",
       "max       1.010020e+11               9.000000      12.000000      42.395200   \n",
       "\n",
       "       location_zipcode      longitude  neighborhood_services_district  \\\n",
       "count      76719.000000  100000.000000                    95689.000000   \n",
       "mean        2127.405780     -71.084240                        8.917963   \n",
       "std           18.057572       0.035997                        4.191097   \n",
       "min         2108.000000     -71.181800                        0.000000   \n",
       "25%         2121.000000     -71.108900                        6.000000   \n",
       "50%         2126.000000     -71.074300                       10.000000   \n",
       "75%         2131.000000     -71.058700                       13.000000   \n",
       "max         2467.000000     -70.995900                       15.000000   \n",
       "\n",
       "         property_id  \n",
       "count   95718.000000  \n",
       "mean   105053.528208  \n",
       "std    100520.837971  \n",
       "min         1.000000  \n",
       "25%     17076.250000  \n",
       "50%     84764.500000  \n",
       "75%    147539.750000  \n",
       "max    419843.000000  "
      ]
     },
     "execution_count": 6,
     "metadata": {},
     "output_type": "execute_result"
    }
   ],
   "source": [
    "df.describe()"
   ]
  },
  {
   "cell_type": "code",
   "execution_count": 7,
   "metadata": {
    "collapsed": false
   },
   "outputs": [
    {
     "name": "stdout",
     "output_type": "stream",
     "text": [
      "<class 'pandas.core.frame.DataFrame'>\n",
      "Int64Index: 100000 entries, 0 to 99999\n",
      "Data columns (total 33 columns):\n",
      "case_enquiry_id                   100000 non-null int64\n",
      "case_status                       100000 non-null object\n",
      "case_title                        99951 non-null object\n",
      "city_council_district             95689 non-null float64\n",
      "closed_dt                         92799 non-null object\n",
      "closedphoto                       7965 non-null object\n",
      "closure_reason                    92803 non-null object\n",
      "department                        100000 non-null object\n",
      "fire_district                     95354 non-null float64\n",
      "geocoded_location                 100000 non-null object\n",
      "land_usage                        73089 non-null object\n",
      "latitude                          100000 non-null float64\n",
      "location                          95718 non-null object\n",
      "location_street_name              95718 non-null object\n",
      "location_zipcode                  76719 non-null float64\n",
      "longitude                         100000 non-null float64\n",
      "neighborhood                      95626 non-null object\n",
      "neighborhood_services_district    95689 non-null float64\n",
      "ontime_status                     99919 non-null object\n",
      "open_dt                           100000 non-null object\n",
      "police_district                   95592 non-null object\n",
      "precinct                          95382 non-null object\n",
      "property_id                       95718 non-null float64\n",
      "property_type                     95718 non-null object\n",
      "pwd_district                      95565 non-null object\n",
      "queue                             100000 non-null object\n",
      "reason                            100000 non-null object\n",
      "source                            100000 non-null object\n",
      "subject                           100000 non-null object\n",
      "submittedphoto                    14805 non-null object\n",
      "target_dt                         77912 non-null object\n",
      "type                              100000 non-null object\n",
      "ward                              95699 non-null object\n",
      "dtypes: float64(7), int64(1), object(25)\n",
      "memory usage: 25.9+ MB\n"
     ]
    }
   ],
   "source": [
    "df.info()"
   ]
  },
  {
   "cell_type": "markdown",
   "metadata": {},
   "source": [
    "Nice! You'll notice a lot of the columns are object datatypes, which means we won't see stats on them using `.describe()`.  One of those is open_dt, which seems like it might be the time of the complaint.  We definitely want to be able to see the max and min time of the sample we've taken of the data, so let's look at that column."
   ]
  },
  {
   "cell_type": "code",
   "execution_count": 8,
   "metadata": {
    "collapsed": false
   },
   "outputs": [
    {
     "data": {
      "text/plain": [
       "0    2011-09-08T09:29:08.000\n",
       "1    2015-03-03T11:25:09.000\n",
       "Name: open_dt, dtype: object"
      ]
     },
     "execution_count": 8,
     "metadata": {},
     "output_type": "execute_result"
    }
   ],
   "source": [
    "df['open_dt'].head(n=2)"
   ]
  },
  {
   "cell_type": "markdown",
   "metadata": {},
   "source": [
    "Yup! That's our datetime.  So let's ensure Pandas knows this is a datetime column."
   ]
  },
  {
   "cell_type": "code",
   "execution_count": 9,
   "metadata": {
    "collapsed": false
   },
   "outputs": [
    {
     "data": {
      "text/plain": [
       "count                  100000\n",
       "unique                  99338\n",
       "top       2015-09-10 10:00:00\n",
       "freq                        4\n",
       "first     2011-07-01 06:24:38\n",
       "last      2016-12-22 09:43:12\n",
       "Name: open_dt, dtype: object"
      ]
     },
     "execution_count": 9,
     "metadata": {},
     "output_type": "execute_result"
    }
   ],
   "source": [
    "df['open_dt'] = pd.to_datetime(df['open_dt'])\n",
    "df['open_dt'].describe()"
   ]
  },
  {
   "cell_type": "markdown",
   "metadata": {},
   "source": [
    "Nice! Now we see that our first observation is July 1st, 2011 and our last observation is December 22nd, 2016.  Let's make it a bit cleaner and just use 2016.  SODA API has that functionality, but we can also just do it here.  Now that Pandas knows that open_dt is datetime, we can create a date index by setting open_dt to index.  Then, conveniently enough, we can just look at observations that happened on a certain time or date!\n",
    "\n",
    "We reset the index afterwards just because we want to be able to specify it as a column rather than the index."
   ]
  },
  {
   "cell_type": "code",
   "execution_count": 10,
   "metadata": {
    "collapsed": false
   },
   "outputs": [],
   "source": [
    "df = df.set_index('open_dt')\n",
    "df = df['2016']\n",
    "df.reset_index(inplace=True)\n"
   ]
  },
  {
   "cell_type": "markdown",
   "metadata": {},
   "source": [
    "Since our goal here is to see how many unique complaints per day we're looking at, we might want to check that none of these complaints are duplicates"
   ]
  },
  {
   "cell_type": "code",
   "execution_count": 11,
   "metadata": {
    "collapsed": false
   },
   "outputs": [
    {
     "ename": "TypeError",
     "evalue": "type object argument after * must be an iterable, not itertools.imap",
     "output_type": "error",
     "traceback": [
      "\u001b[0;31m---------------------------------------------------------------------------\u001b[0m",
      "\u001b[0;31mTypeError\u001b[0m                                 Traceback (most recent call last)",
      "\u001b[0;32m<ipython-input-11-3740033cd7ef>\u001b[0m in \u001b[0;36m<module>\u001b[0;34m()\u001b[0m\n\u001b[0;32m----> 1\u001b[0;31m \u001b[0mdf\u001b[0m\u001b[0;34m.\u001b[0m\u001b[0mduplicated\u001b[0m\u001b[0;34m(\u001b[0m\u001b[0;34m)\u001b[0m\u001b[0;34m\u001b[0m\u001b[0m\n\u001b[0m",
      "\u001b[0;32m/Users/B/anaconda/envs/cornerstone/lib/python2.7/site-packages/pandas/util/decorators.pyc\u001b[0m in \u001b[0;36mwrapper\u001b[0;34m(*args, **kwargs)\u001b[0m\n\u001b[1;32m     89\u001b[0m                 \u001b[0;32melse\u001b[0m\u001b[0;34m:\u001b[0m\u001b[0;34m\u001b[0m\u001b[0m\n\u001b[1;32m     90\u001b[0m                     \u001b[0mkwargs\u001b[0m\u001b[0;34m[\u001b[0m\u001b[0mnew_arg_name\u001b[0m\u001b[0;34m]\u001b[0m \u001b[0;34m=\u001b[0m \u001b[0mnew_arg_value\u001b[0m\u001b[0;34m\u001b[0m\u001b[0m\n\u001b[0;32m---> 91\u001b[0;31m             \u001b[0;32mreturn\u001b[0m \u001b[0mfunc\u001b[0m\u001b[0;34m(\u001b[0m\u001b[0;34m*\u001b[0m\u001b[0margs\u001b[0m\u001b[0;34m,\u001b[0m \u001b[0;34m**\u001b[0m\u001b[0mkwargs\u001b[0m\u001b[0;34m)\u001b[0m\u001b[0;34m\u001b[0m\u001b[0m\n\u001b[0m\u001b[1;32m     92\u001b[0m         \u001b[0;32mreturn\u001b[0m \u001b[0mwrapper\u001b[0m\u001b[0;34m\u001b[0m\u001b[0m\n\u001b[1;32m     93\u001b[0m     \u001b[0;32mreturn\u001b[0m \u001b[0m_deprecate_kwarg\u001b[0m\u001b[0;34m\u001b[0m\u001b[0m\n",
      "\u001b[0;32m/Users/B/anaconda/envs/cornerstone/lib/python2.7/site-packages/pandas/core/frame.pyc\u001b[0m in \u001b[0;36mduplicated\u001b[0;34m(self, subset, keep)\u001b[0m\n\u001b[1;32m   3168\u001b[0m \u001b[0;34m\u001b[0m\u001b[0m\n\u001b[1;32m   3169\u001b[0m         \u001b[0mvals\u001b[0m \u001b[0;34m=\u001b[0m \u001b[0;34m(\u001b[0m\u001b[0mself\u001b[0m\u001b[0;34m[\u001b[0m\u001b[0mcol\u001b[0m\u001b[0;34m]\u001b[0m\u001b[0;34m.\u001b[0m\u001b[0mvalues\u001b[0m \u001b[0;32mfor\u001b[0m \u001b[0mcol\u001b[0m \u001b[0;32min\u001b[0m \u001b[0msubset\u001b[0m\u001b[0;34m)\u001b[0m\u001b[0;34m\u001b[0m\u001b[0m\n\u001b[0;32m-> 3170\u001b[0;31m         \u001b[0mlabels\u001b[0m\u001b[0;34m,\u001b[0m \u001b[0mshape\u001b[0m \u001b[0;34m=\u001b[0m \u001b[0mmap\u001b[0m\u001b[0;34m(\u001b[0m\u001b[0mlist\u001b[0m\u001b[0;34m,\u001b[0m \u001b[0mzip\u001b[0m\u001b[0;34m(\u001b[0m\u001b[0;34m*\u001b[0m\u001b[0mmap\u001b[0m\u001b[0;34m(\u001b[0m\u001b[0mf\u001b[0m\u001b[0;34m,\u001b[0m \u001b[0mvals\u001b[0m\u001b[0;34m)\u001b[0m\u001b[0;34m)\u001b[0m\u001b[0;34m)\u001b[0m\u001b[0;34m\u001b[0m\u001b[0m\n\u001b[0m\u001b[1;32m   3171\u001b[0m \u001b[0;34m\u001b[0m\u001b[0m\n\u001b[1;32m   3172\u001b[0m         \u001b[0mids\u001b[0m \u001b[0;34m=\u001b[0m \u001b[0mget_group_index\u001b[0m\u001b[0;34m(\u001b[0m\u001b[0mlabels\u001b[0m\u001b[0;34m,\u001b[0m \u001b[0mshape\u001b[0m\u001b[0;34m,\u001b[0m \u001b[0msort\u001b[0m\u001b[0;34m=\u001b[0m\u001b[0mFalse\u001b[0m\u001b[0;34m,\u001b[0m \u001b[0mxnull\u001b[0m\u001b[0;34m=\u001b[0m\u001b[0mFalse\u001b[0m\u001b[0;34m)\u001b[0m\u001b[0;34m\u001b[0m\u001b[0m\n",
      "\u001b[0;31mTypeError\u001b[0m: type object argument after * must be an iterable, not itertools.imap"
     ]
    }
   ],
   "source": [
    "df.duplicated()"
   ]
  },
  {
   "cell_type": "markdown",
   "metadata": {},
   "source": [
    "So this is interesting (and a learning opportunity!).  This is a weird error, but we can poll the large knowledge base online to understand what this is telling us.  [This StackOverflow answer](http://stackoverflow.com/questions/26244309/how-to-analyze-all-duplicate-entries-in-this-pandas-dataframe) helps us understand.  It seems like there might be some columns that have data structures in them that don't play well with panda's duplicates function.\n",
    "\n",
    "Maybe what makes the most sense is to just see if the case_enquiry id is duplicated.  The `.duplicated()` method returns `True` for a row if it's a duplicate, `False` otherwise.  The `.value_counts()` method gives us the count of each value within a column (very useful!).  As we can see here, there are no duplicates, as all the rows have returned `False`."
   ]
  },
  {
   "cell_type": "code",
   "execution_count": 12,
   "metadata": {
    "collapsed": false
   },
   "outputs": [
    {
     "data": {
      "text/plain": [
       "False    23604\n",
       "Name: case_enquiry_id, dtype: int64"
      ]
     },
     "execution_count": 12,
     "metadata": {},
     "output_type": "execute_result"
    }
   ],
   "source": [
    "df.case_enquiry_id.duplicated().value_counts()"
   ]
  },
  {
   "cell_type": "markdown",
   "metadata": {},
   "source": [
    "Great.  Now that we're sure we're not dealing with duplicates, let's get our counts by day.  Panda's `.groupby(X)` method allows us to group observations by values within column X.  The open_dt column, however, is a timestamp.  So we need to make a new column that has the day.  We can do this by using `.apply()`, which applies a function over a certain axis (e.g. rows or columns).  "
   ]
  },
  {
   "cell_type": "code",
   "execution_count": 13,
   "metadata": {
    "collapsed": false
   },
   "outputs": [
    {
     "data": {
      "text/plain": [
       "0    2016-09-08\n",
       "1    2016-06-24\n",
       "Name: open_date, dtype: object"
      ]
     },
     "execution_count": 13,
     "metadata": {},
     "output_type": "execute_result"
    }
   ],
   "source": [
    "df['open_date'] = df.open_dt.apply(lambda x: x.date())\n",
    "df['open_date'].head(n=2)"
   ]
  },
  {
   "cell_type": "markdown",
   "metadata": {},
   "source": [
    "Now, let's group by."
   ]
  },
  {
   "cell_type": "code",
   "execution_count": 14,
   "metadata": {
    "collapsed": false
   },
   "outputs": [
    {
     "name": "stdout",
     "output_type": "stream",
     "text": [
      "<pandas.core.groupby.DataFrameGroupBy object at 0x106f9d510>\n"
     ]
    }
   ],
   "source": [
    "df_g = df.groupby('open_date')\n",
    "print df_g"
   ]
  },
  {
   "cell_type": "markdown",
   "metadata": {},
   "source": [
    "Groupby gives us a DataFrameGroupBy object, which has its own methods and attributes.  It's a bit complicated, but let's just forge ahead and get the count of the number of unique case_enquiry_ids for each date.  We do this by applying the unique function to the case_enquiry_id column in each date and getting the length of the result (i.e. the number of unique ids)"
   ]
  },
  {
   "cell_type": "code",
   "execution_count": 15,
   "metadata": {
    "collapsed": false
   },
   "outputs": [
    {
     "name": "stdout",
     "output_type": "stream",
     "text": [
      "open_date\n",
      "2016-01-01    29\n",
      "2016-01-02    23\n",
      "2016-01-03    34\n",
      "2016-01-04    64\n",
      "2016-01-05    83\n",
      "dtype: int64\n"
     ]
    }
   ],
   "source": [
    "id_by_date = df_g.apply(lambda x: len(x['case_enquiry_id'].unique()))\n",
    "print id_by_date.head()"
   ]
  },
  {
   "cell_type": "markdown",
   "metadata": {},
   "source": [
    "Okay, cool, but what if we want to see how this looks over time? Pandas' got you covered.  It will generate a quick plot just by using the `.plot()` method.  To see it, you'll have to import the matplotlib library.  It's also convenient to specify that matplotlib shows its plot within the notebook."
   ]
  },
  {
   "cell_type": "code",
   "execution_count": 16,
   "metadata": {
    "collapsed": true
   },
   "outputs": [],
   "source": [
    "import matplotlib.pyplot as plt\n",
    "%matplotlib inline"
   ]
  },
  {
   "cell_type": "code",
   "execution_count": 17,
   "metadata": {
    "collapsed": false
   },
   "outputs": [
    {
     "data": {
      "image/png": "[encoded data removed]",
      "text/plain": [
       "<matplotlib.figure.Figure at 0x106f2cdd0>"
      ]
     },
     "metadata": {},
     "output_type": "display_data"
    }
   ],
   "source": [
    "# Visualize\n",
    "id_by_date.plot(figsize=(15,10))\n",
    "plt.show()"
   ]
  },
  {
   "cell_type": "markdown",
   "metadata": {},
   "source": [
    "Well look at that.  We can see Allston Christmas in there.\n",
    "\n",
    "But generally, there's some temporal patterns to this, as we'd expect.  What remains to be seen, though, is how this patterns varies between rainy and clear days.  To answer that question, we'll need some weather data.  \n",
    "\n",
    "### <a name='obt'></a>Obtaining weather data from Wunderground\n",
    "\n",
    "A good source for that is [Wunderground's API](https://www.wunderground.com/weather/api/d/docs).  You'll need to register for a key to get access.  I have the resulting data in the ./data folder, so feel free to use that for now. \n",
    "\n",
    "Once you've done that, you can request historical data the same way we did with Socrata, using the url syntax described [here](https://www.wunderground.com/weather/api/d/docs)."
   ]
  },
  {
   "cell_type": "code",
   "execution_count": 53,
   "metadata": {
    "collapsed": false
   },
   "outputs": [],
   "source": [
    "# Access Wunderground weather API\n",
    "KEY = 'XXX'\n",
    "dt = '20161201'\n",
    "state = 'MA'\n",
    "city = 'Boston'\n",
    "wu_url = 'http://api.wunderground.com/api/{}/history_{}/q/{}/{}.json'.format(KEY, dt, state, city)\n",
    "r = requests.get(wu_url)"
   ]
  },
  {
   "cell_type": "markdown",
   "metadata": {},
   "source": [
    "The data is in JSON format, and again handy-dandy pandas comes in.  Unfortunately, the data we want (dailysummary) is actually contained within a field in the json, so we'll have to use some indexing to get what we want out of it."
   ]
  },
  {
   "cell_type": "code",
   "execution_count": 19,
   "metadata": {
    "collapsed": false
   },
   "outputs": [
    {
     "data": {
      "text/html": [
       "<div>\n",
       "<table border=\"1\" class=\"dataframe\">\n",
       "  <thead>\n",
       "    <tr style=\"text-align: right;\">\n",
       "      <th></th>\n",
       "      <th>coolingdegreedays</th>\n",
       "      <th>coolingdegreedaysnormal</th>\n",
       "      <th>date</th>\n",
       "      <th>fog</th>\n",
       "      <th>gdegreedays</th>\n",
       "      <th>hail</th>\n",
       "      <th>heatingdegreedays</th>\n",
       "      <th>heatingdegreedaysnormal</th>\n",
       "      <th>humidity</th>\n",
       "      <th>maxdewpti</th>\n",
       "      <th>...</th>\n",
       "      <th>since1sepcoolingdegreedaysnormal</th>\n",
       "      <th>since1sepheatingdegreedays</th>\n",
       "      <th>since1sepheatingdegreedaysnormal</th>\n",
       "      <th>snow</th>\n",
       "      <th>snowdepthi</th>\n",
       "      <th>snowdepthm</th>\n",
       "      <th>snowfalli</th>\n",
       "      <th>snowfallm</th>\n",
       "      <th>thunder</th>\n",
       "      <th>tornado</th>\n",
       "    </tr>\n",
       "  </thead>\n",
       "  <tbody>\n",
       "    <tr>\n",
       "      <th>0</th>\n",
       "      <td>0</td>\n",
       "      <td>0</td>\n",
       "      <td>{u'mday': u'01', u'hour': u'12', u'min': u'00'...</td>\n",
       "      <td>0</td>\n",
       "      <td>0</td>\n",
       "      <td>0</td>\n",
       "      <td>15</td>\n",
       "      <td>25</td>\n",
       "      <td></td>\n",
       "      <td>51</td>\n",
       "      <td>...</td>\n",
       "      <td></td>\n",
       "      <td></td>\n",
       "      <td></td>\n",
       "      <td>0</td>\n",
       "      <td></td>\n",
       "      <td></td>\n",
       "      <td>0.00</td>\n",
       "      <td>0.00</td>\n",
       "      <td>0</td>\n",
       "      <td>0</td>\n",
       "    </tr>\n",
       "  </tbody>\n",
       "</table>\n",
       "<p>1 rows × 70 columns</p>\n",
       "</div>"
      ],
      "text/plain": [
       "  coolingdegreedays coolingdegreedaysnormal  \\\n",
       "0                 0                       0   \n",
       "\n",
       "                                                date fog gdegreedays hail  \\\n",
       "0  {u'mday': u'01', u'hour': u'12', u'min': u'00'...   0           0    0   \n",
       "\n",
       "  heatingdegreedays heatingdegreedaysnormal humidity maxdewpti   ...    \\\n",
       "0                15                      25                 51   ...     \n",
       "\n",
       "  since1sepcoolingdegreedaysnormal since1sepheatingdegreedays  \\\n",
       "0                                                               \n",
       "\n",
       "  since1sepheatingdegreedaysnormal snow snowdepthi snowdepthm snowfalli  \\\n",
       "0                                     0                            0.00   \n",
       "\n",
       "  snowfallm thunder tornado  \n",
       "0      0.00       0       0  \n",
       "\n",
       "[1 rows x 70 columns]"
      ]
     },
     "execution_count": 19,
     "metadata": {},
     "output_type": "execute_result"
    }
   ],
   "source": [
    "day_w = pd.DataFrame(pd.read_json(r.content)['history']['dailysummary'])\n",
    "day_w"
   ]
  },
  {
   "cell_type": "markdown",
   "metadata": {},
   "source": [
    "Whew.  All that for one day? Seems like it, from the API docs.  So maybe we focus on one month so we don't overdo our API limit, get each day of some rainy month, say, April.  We'll iterate, for each day in April, we'll get the weather and add it to a dataframe.\n",
    "\n",
    "The code below is a bit complicated, but the general idea is that we need to change the url for each day in April and it needs to be in the format YYYYMMDD."
   ]
  },
  {
   "cell_type": "code",
   "execution_count": 20,
   "metadata": {
    "collapsed": true
   },
   "outputs": [],
   "source": [
    "#Need this for the day count (I don't remember the mnemonic for it)\n",
    "import calendar"
   ]
  },
  {
   "cell_type": "code",
   "execution_count": 21,
   "metadata": {
    "collapsed": false
   },
   "outputs": [
    {
     "data": {
      "text/plain": [
       "30"
      ]
     },
     "execution_count": 21,
     "metadata": {},
     "output_type": "execute_result"
    }
   ],
   "source": [
    "days = calendar.monthrange(2016,4)[1]\n",
    "days"
   ]
  },
  {
   "cell_type": "code",
   "execution_count": null,
   "metadata": {
    "collapsed": false
   },
   "outputs": [],
   "source": [
    "april_w = pd.DataFrame()\n",
    "for day in range(1,days+1):\n",
    "    d = str(day)\n",
    "    if len(d)==1:\n",
    "        d = '0'+d\n",
    "    dt = '201604'+d\n",
    "    wu_url = 'http://api.wunderground.com/api/{}/history_{}/q/{}/{}.json'.format(KEY, dt, state, city)\n",
    "    r = requests.get(wu_url)\n",
    "    tmp = pd.read_json(r.content)['history']['dailysummary'][0]\n",
    "    tmp['day'] = dt\n",
    "    april_w = april_w.append(tmp, ignore_index=True)"
   ]
  },
  {
   "cell_type": "markdown",
   "metadata": {},
   "source": [
    "It might make sense after that to save the result to a file so we don't have to re-run it."
   ]
  },
  {
   "cell_type": "code",
   "execution_count": null,
   "metadata": {
    "collapsed": true
   },
   "outputs": [],
   "source": [
    "april_w.to_csv('./data/april_weather.csv')"
   ]
  },
  {
   "cell_type": "markdown",
   "metadata": {},
   "source": [
    "And you can start here if you don't want to bother with the Wunderground API right now."
   ]
  },
  {
   "cell_type": "code",
   "execution_count": 22,
   "metadata": {
    "collapsed": true
   },
   "outputs": [],
   "source": [
    "april_w = pd.read_csv('./data/april_weather.csv')"
   ]
  },
  {
   "cell_type": "markdown",
   "metadata": {},
   "source": [
    "### <a name='joi'></a>Joining data\n",
    "\n",
    "So now, after all that magic, we have our weather data for April.  But all we're really interested in is rain, so let's pick out those columns"
   ]
  },
  {
   "cell_type": "code",
   "execution_count": 29,
   "metadata": {
    "collapsed": false
   },
   "outputs": [
    {
     "data": {
      "text/html": [
       "<div>\n",
       "<table border=\"1\" class=\"dataframe\">\n",
       "  <thead>\n",
       "    <tr style=\"text-align: right;\">\n",
       "      <th></th>\n",
       "      <th>day</th>\n",
       "      <th>rain</th>\n",
       "    </tr>\n",
       "  </thead>\n",
       "  <tbody>\n",
       "    <tr>\n",
       "      <th>0</th>\n",
       "      <td>20160401</td>\n",
       "      <td>1</td>\n",
       "    </tr>\n",
       "    <tr>\n",
       "      <th>1</th>\n",
       "      <td>20160402</td>\n",
       "      <td>1</td>\n",
       "    </tr>\n",
       "    <tr>\n",
       "      <th>2</th>\n",
       "      <td>20160403</td>\n",
       "      <td>1</td>\n",
       "    </tr>\n",
       "    <tr>\n",
       "      <th>3</th>\n",
       "      <td>20160404</td>\n",
       "      <td>0</td>\n",
       "    </tr>\n",
       "    <tr>\n",
       "      <th>4</th>\n",
       "      <td>20160405</td>\n",
       "      <td>0</td>\n",
       "    </tr>\n",
       "  </tbody>\n",
       "</table>\n",
       "</div>"
      ],
      "text/plain": [
       "        day  rain\n",
       "0  20160401     1\n",
       "1  20160402     1\n",
       "2  20160403     1\n",
       "3  20160404     0\n",
       "4  20160405     0"
      ]
     },
     "execution_count": 29,
     "metadata": {},
     "output_type": "execute_result"
    }
   ],
   "source": [
    "april_rain = april_w[['day','rain']]\n",
    "april_rain.head()"
   ]
  },
  {
   "cell_type": "markdown",
   "metadata": {},
   "source": [
    "Now we need to join our complaint data to the weather data.  The only issue is that the dates look different.  Our complaint data is YYYY-MM-DD and our weather data is YYYYMMDD.  Pandas to the rescue! This may look a bit strange, but all we do here is use the `.merge()` method to merge on the day column from april's weather and the index of id_by_date (the index = date).\n",
    "\n",
    "The pink warning is strange, not sure why it pops up."
   ]
  },
  {
   "cell_type": "code",
   "execution_count": 36,
   "metadata": {
    "collapsed": false
   },
   "outputs": [
    {
     "name": "stderr",
     "output_type": "stream",
     "text": [
      "/Users/B/anaconda/envs/cornerstone/lib/python2.7/site-packages/ipykernel/__main__.py:1: SettingWithCopyWarning: \n",
      "A value is trying to be set on a copy of a slice from a DataFrame.\n",
      "Try using .loc[row_indexer,col_indexer] = value instead\n",
      "\n",
      "See the caveats in the documentation: http://pandas.pydata.org/pandas-docs/stable/indexing.html#indexing-view-versus-copy\n",
      "  if __name__ == '__main__':\n"
     ]
    },
    {
     "data": {
      "text/html": [
       "<div>\n",
       "<table border=\"1\" class=\"dataframe\">\n",
       "  <thead>\n",
       "    <tr style=\"text-align: right;\">\n",
       "      <th></th>\n",
       "      <th>day</th>\n",
       "      <th>rain</th>\n",
       "      <th>0</th>\n",
       "    </tr>\n",
       "  </thead>\n",
       "  <tbody>\n",
       "    <tr>\n",
       "      <th>0</th>\n",
       "      <td>2016-04-01</td>\n",
       "      <td>1</td>\n",
       "      <td>88</td>\n",
       "    </tr>\n",
       "    <tr>\n",
       "      <th>1</th>\n",
       "      <td>2016-04-02</td>\n",
       "      <td>1</td>\n",
       "      <td>37</td>\n",
       "    </tr>\n",
       "    <tr>\n",
       "      <th>2</th>\n",
       "      <td>2016-04-03</td>\n",
       "      <td>1</td>\n",
       "      <td>34</td>\n",
       "    </tr>\n",
       "    <tr>\n",
       "      <th>3</th>\n",
       "      <td>2016-04-04</td>\n",
       "      <td>0</td>\n",
       "      <td>68</td>\n",
       "    </tr>\n",
       "    <tr>\n",
       "      <th>4</th>\n",
       "      <td>2016-04-05</td>\n",
       "      <td>0</td>\n",
       "      <td>96</td>\n",
       "    </tr>\n",
       "  </tbody>\n",
       "</table>\n",
       "</div>"
      ],
      "text/plain": [
       "         day  rain   0\n",
       "0 2016-04-01     1  88\n",
       "1 2016-04-02     1  37\n",
       "2 2016-04-03     1  34\n",
       "3 2016-04-04     0  68\n",
       "4 2016-04-05     0  96"
      ]
     },
     "execution_count": 36,
     "metadata": {},
     "output_type": "execute_result"
    }
   ],
   "source": [
    "april_rain['day'] = pd.to_datetime(april_rain.day, format='%Y%m%d')\n",
    "id_by_date.index = pd.to_datetime(id_by_date.index, format='%Y-%m-%d')\n",
    "april_complaints = april_rain.merge(pd.DataFrame(id_by_date), left_on='day', right_index=True)\n",
    "april_complaints.head()"
   ]
  },
  {
   "cell_type": "markdown",
   "metadata": {},
   "source": [
    "### <a name='tes'></a>Testing rainy day differences\n",
    "\n",
    "You'll see that the rain variable is binary; it's 1 when it's rained and 0 when it hasn't.  This gives us a good opportunity for visualization, as we can look at the distribution of complaint number for each day type.  A nice visual can be plotted using the seaborn library, imported below"
   ]
  },
  {
   "cell_type": "code",
   "execution_count": 37,
   "metadata": {
    "collapsed": false
   },
   "outputs": [],
   "source": [
    "import seaborn as sns"
   ]
  },
  {
   "cell_type": "code",
   "execution_count": 39,
   "metadata": {
    "collapsed": false
   },
   "outputs": [
    {
     "data": {
      "text/plain": [
       "<matplotlib.legend.Legend at 0x14168fc90>"
      ]
     },
     "execution_count": 39,
     "metadata": {},
     "output_type": "execute_result"
    },
    {
     "data": {
      "image/png": "[encoded data removed]",
      "text/plain": [
       "<matplotlib.figure.Figure at 0x1416c4990>"
      ]
     },
     "metadata": {},
     "output_type": "display_data"
    }
   ],
   "source": [
    "norain = april_complaints[april_complaints.rain==0]\n",
    "rain = april_complaints[april_complaints.rain==1]\n",
    "p = sns.distplot(rain[0], label='rainy days')\n",
    "p = sns.distplot(norain[0], label='clear days')\n",
    "\n",
    "plt.legend()"
   ]
  },
  {
   "cell_type": "markdown",
   "metadata": {},
   "source": [
    "It looks like April's rainy days (in blue) had more days with higher numbers of complaints.  That's what we'd expect.  However, we're not sure if that's a significant difference.  A good way to test would be to use the scipy stats library to perform a t-test on the average number of complaints within each day type."
   ]
  },
  {
   "cell_type": "code",
   "execution_count": 40,
   "metadata": {
    "collapsed": true
   },
   "outputs": [],
   "source": [
    "from scipy.stats import ttest_ind"
   ]
  },
  {
   "cell_type": "code",
   "execution_count": 41,
   "metadata": {
    "collapsed": false
   },
   "outputs": [
    {
     "name": "stdout",
     "output_type": "stream",
     "text": [
      "Difference in means: 2.27272727273\n"
     ]
    },
    {
     "data": {
      "text/plain": [
       "Ttest_indResult(statistic=0.2454812674984114, pvalue=0.80787422556401667)"
      ]
     },
     "execution_count": 41,
     "metadata": {},
     "output_type": "execute_result"
    }
   ],
   "source": [
    "# Test for significant difference\n",
    "print \"Difference in means:\", rain[0].mean() - norain[0].mean()\n",
    "ttest_ind(rain[0], norain[0])"
   ]
  },
  {
   "cell_type": "markdown",
   "metadata": {},
   "source": [
    "Surprise! The p-value is .8, which is far from significant.  That makes sense, the difference in the number of complaints is only 2, on average.  It might make sense to pull more weather data or use something like percipitation amount, rather than just any rain."
   ]
  }
 ],
 "metadata": {
  "kernelspec": {
   "display_name": "Python 2",
   "language": "python",
   "name": "python2"
  },
  "language_info": {
   "codemirror_mode": {
    "name": "ipython",
    "version": 2
   },
   "file_extension": ".py",
   "mimetype": "text/x-python",
   "name": "python",
   "nbconvert_exporter": "python",
   "pygments_lexer": "ipython2",
   "version": "2.7.12"
  }
 },
 "nbformat": 4,
 "nbformat_minor": 1
}
