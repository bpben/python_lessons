{
 "cells": [
  {
   "cell_type": "markdown",
   "metadata": {},
   "source": [
    "# Python basics\n",
    "Welcome to the wonderful world of Python.  In this notebook, we will be running through some very basic python concepts:\n",
    "\n",
    "- [What is python](#what)\n",
    "- [Hello world](#hello)\n",
    "- [Strings](#strings)\n",
    "- [Numbers](#numbers)\n",
    "- [Assigning variables](#assign)\n",
    "- [Lists](#lists)\n",
    "- [Dictionaries](#dict)\n",
    "- [For loops](#for)\n",
    "- [While loops](#while)\n",
    "- [if, elif, else](#if)\n",
    "\n",
    "If you are reading this in a web browser and would prefer to have your own notebook to edit, visit this lesson repo [here](XXX) and use the README there to guide you through the install and setup of Jupyter Notebook."
   ]
  },
  {
   "cell_type": "markdown",
   "metadata": {},
   "source": [
    "# What is python? <a name=\"what\"></a>\n",
    "Python is general-purpose, high-level free-to-use programming language with an active community of contributors.  Some of the nice features of python:\n",
    "\n",
    "- General purpose: Python allows both object-oriented and procedural programming.  Basically, this means data can both have its own functions (e.g. a ball is able to be rolled) and have functions applied to it (e.g. you can create a roll function and apply it to all kinds of things).\n",
    "- High-level: Python takes care of issues like memory management for you so you don't need to worry about it.\n",
    "- Active community: Because of python's versatility and portability, it has a large community of contributors developing new libraries (and answering your StackOverflow questions!)\n",
    "\n",
    "For this part of the tutorial, we're going to cover some of the basic data types (\"objects\", loosely) and some basic procedural controls.\n"
   ]
  },
  {
   "cell_type": "markdown",
   "metadata": {},
   "source": [
    "## Hello world <a name=\"hello\"></a>\n",
    "Every good python tutorial needs one of these.  Also gives us a good intro to the \"string\" data type.\n",
    "\n",
    ">print \"Hello world\""
   ]
  },
  {
   "cell_type": "code",
   "execution_count": null,
   "metadata": {
    "collapsed": false
   },
   "outputs": [],
   "source": [
    "print \"Hello world\""
   ]
  },
  {
   "cell_type": "markdown",
   "metadata": {},
   "source": [
    "This simple statement captures some of the simplicity of python.  Without knowing anything about the language, you can understand what the code does.  \n",
    "\n",
    "`print` is a built-in python function that will output something to the output stream (in this case, below the code block in the notebook).   \n",
    "\n",
    "In python versions 3., you'd write this as: `print(\"Hello world\")`\n",
    "\n",
    "`print` takes advantage of python's procedural aspects (i.e. functions applicable to data).  Let's look at what python sees when it gets \"Hello word\" as input and how it takes advantage of python's object-oriented aspects."
   ]
  },
  {
   "cell_type": "markdown",
   "metadata": {},
   "source": [
    "## Strings <a name=\"strings\"></a>\n",
    "A string is a list of characters in order, denoted in python as `str`.  Putting double (\" \") or single quotes (' ') around something designates it as a string.\n",
    "\n",
    "Strings can be thought of as \"objects\"; they have certain attributes attached to them.  Let's look at a few of them.\n",
    "\n",
    "### Converting to lowercase\n",
    "A string can be converted to lowercase, simply by calling the `lower` attribute"
   ]
  },
  {
   "cell_type": "code",
   "execution_count": null,
   "metadata": {
    "collapsed": false
   },
   "outputs": [],
   "source": [
    "print \"Hello world\".lower()"
   ]
  },
  {
   "cell_type": "markdown",
   "metadata": {},
   "source": [
    "`lower` is an attribute of a string object, and the parentheses makes a call to the underlying function stored in that attribute, which returns a copy of the string with all characters as lowercase.  \n",
    "\n",
    "That sounds a bit complicated, but it's enough to know that it's a way to convert a string to lowercase. \n",
    "\n",
    "### Getting items by index\n",
    "Since the `str` datatype stores the ordering of the characters, you can retrieve characters of the string by their location in the string.  You could use the attribute syntax (i.e. `.__getitem__`), but python has an easy way for specifying which character you want:"
   ]
  },
  {
   "cell_type": "code",
   "execution_count": null,
   "metadata": {
    "collapsed": false
   },
   "outputs": [],
   "source": [
    "print \"Hello world\"[0]"
   ]
  },
  {
   "cell_type": "markdown",
   "metadata": {},
   "source": [
    "In brackets I put the number zero, which indicates the first element of the string: \"H\".  \n",
    "\n",
    "<b>Remember, python counts starting from 0.  It's tricky to remember, but important</b>\n",
    "\n",
    "You can also use a colon (:), referred to as a slicer, to specify a start and end location within the string to return"
   ]
  },
  {
   "cell_type": "code",
   "execution_count": null,
   "metadata": {
    "collapsed": false
   },
   "outputs": [],
   "source": [
    "print \"Hello world\"[0:5]"
   ]
  },
  {
   "cell_type": "markdown",
   "metadata": {},
   "source": [
    "Or, leave the start/end blank to get everything before/after that location"
   ]
  },
  {
   "cell_type": "code",
   "execution_count": null,
   "metadata": {
    "collapsed": false
   },
   "outputs": [],
   "source": [
    "print \"Hello world\"[:5]\n",
    "print \"Hello world\"[5:]"
   ]
  },
  {
   "cell_type": "markdown",
   "metadata": {},
   "source": [
    "So far we've looked at a built-in function `print`, the `str` datatype and one of its associated attributes `lower` and how to select a substring.  Let's look at some numeric datatypes."
   ]
  },
  {
   "cell_type": "markdown",
   "metadata": {},
   "source": [
    "## Numbers (int, float) <a name=\"numbers\"></a>\n",
    "There's four types of numeric data in Python: `int`, `float`, `long` and `complex`.  I'm going to focus on two, because the other two are less frequently used.  \n",
    "\n",
    "`int` stands for integer, or numbers without decimals.  So 1, 2, 3, ... .  \n",
    "\n",
    "`float` are floating point real values.  Stated simply, they're numbers with decimals.\n",
    "\n",
    "Both types attributes you'd expect (e.g. addition, subtraction, division).  But rather than call them like we did with the `lower` attribute, we can just write out equations as we might normally."
   ]
  },
  {
   "cell_type": "code",
   "execution_count": null,
   "metadata": {
    "collapsed": false
   },
   "outputs": [],
   "source": [
    "print 1 + 1"
   ]
  },
  {
   "cell_type": "markdown",
   "metadata": {},
   "source": [
    "Under the hood, python is calling the \"addition\" attribute of the integer to find the total of the two of them.  But it's enough to know basic math operations are simple to implement in python."
   ]
  },
  {
   "cell_type": "code",
   "execution_count": null,
   "metadata": {
    "collapsed": false
   },
   "outputs": [],
   "source": [
    "print 1 - 1\n",
    "print 5 * 5\n",
    "print 5 / 10"
   ]
  },
  {
   "cell_type": "markdown",
   "metadata": {},
   "source": [
    "Uh-oh. $\\frac{5}{10}$ is supposed to be .5.  What gives? \n",
    "\n",
    "The issue is that dividing two integers will always give you an integer as a result.  .5 is float.  To get a float back, we need to have at least one of the numbers be a float."
   ]
  },
  {
   "cell_type": "code",
   "execution_count": null,
   "metadata": {
    "collapsed": false
   },
   "outputs": [],
   "source": [
    "print 5. / 10"
   ]
  },
  {
   "cell_type": "markdown",
   "metadata": {},
   "source": [
    "That's better.  Note that you don't need to write 5.0, you can just put a decimal."
   ]
  },
  {
   "cell_type": "markdown",
   "metadata": {},
   "source": [
    "## Assigning variables <a name=\"assign\"></a>\n",
    "Now that we have the data types `int`, `float` and `str` under our belt, let's try and assign some variables.  You can think of variables as data that is stored in python's memory, so we don't need to keep typing it out again and again.\n",
    "\n",
    "To assign data to a variable, use the equals sign:"
   ]
  },
  {
   "cell_type": "code",
   "execution_count": null,
   "metadata": {
    "collapsed": true
   },
   "outputs": [],
   "source": [
    "a = 1\n",
    "b = 1"
   ]
  },
  {
   "cell_type": "markdown",
   "metadata": {},
   "source": [
    "At any time, you can type print a and see what a equals."
   ]
  },
  {
   "cell_type": "code",
   "execution_count": null,
   "metadata": {
    "collapsed": false
   },
   "outputs": [],
   "source": [
    "print a"
   ]
  },
  {
   "cell_type": "markdown",
   "metadata": {},
   "source": [
    "You can also perform any operations you would have performed on the data on the variables."
   ]
  },
  {
   "cell_type": "code",
   "execution_count": null,
   "metadata": {
    "collapsed": false
   },
   "outputs": [],
   "source": [
    "print a + b"
   ]
  },
  {
   "cell_type": "code",
   "execution_count": null,
   "metadata": {
    "collapsed": false
   },
   "outputs": [],
   "source": [
    "c = \"Hello\"\n",
    "d = \"world\"\n",
    "print c\n",
    "print d\n",
    "\n",
    "print c.lower()\n",
    "print c[0]\n",
    "print c[:5]"
   ]
  },
  {
   "cell_type": "markdown",
   "metadata": {},
   "source": [
    "So now we know some data types, how to store them in memory and how to do some interesting operations on them.  Let's expand on these basic types by using them within a data structure."
   ]
  },
  {
   "cell_type": "markdown",
   "metadata": {},
   "source": [
    "## Lists <a name=\"lists\"></a>\n",
    "Lists are what they sound like; an ordered series of values.  They can be any data type or a mixture of datatypes.  \n",
    "\n",
    "To define an empty list:"
   ]
  },
  {
   "cell_type": "code",
   "execution_count": null,
   "metadata": {
    "collapsed": false
   },
   "outputs": [],
   "source": [
    "alist = []\n",
    "alist = list()\n",
    "print alist"
   ]
  },
  {
   "cell_type": "markdown",
   "metadata": {},
   "source": [
    "But you can also initialize a list with data already included.  The syntax for a list to surround a comma-separated sequence of data with brackets:"
   ]
  },
  {
   "cell_type": "code",
   "execution_count": null,
   "metadata": {
    "collapsed": false
   },
   "outputs": [],
   "source": [
    "blist = [1, 2, 'foo', 'bar']\n",
    "print blist"
   ]
  },
  {
   "cell_type": "markdown",
   "metadata": {},
   "source": [
    "Notice this list has both numeric and string data.\n",
    "\n",
    "You can get the elements of the list using the same index notation as described above for strings.  So, for example, if you wanted to get the first element of the list:"
   ]
  },
  {
   "cell_type": "code",
   "execution_count": null,
   "metadata": {
    "collapsed": false
   },
   "outputs": [],
   "source": [
    "print blist[0]"
   ]
  },
  {
   "cell_type": "markdown",
   "metadata": {},
   "source": [
    "Or, how about everything after the second item in the list? "
   ]
  },
  {
   "cell_type": "code",
   "execution_count": null,
   "metadata": {
    "collapsed": false
   },
   "outputs": [],
   "source": [
    "print blist[1:]"
   ]
  },
  {
   "cell_type": "markdown",
   "metadata": {},
   "source": [
    "You can also check whether something is an element in your list.  The syntax is simple, just use `in`.  The result will be True or False. "
   ]
  },
  {
   "cell_type": "code",
   "execution_count": null,
   "metadata": {
    "collapsed": false
   },
   "outputs": [],
   "source": [
    "print 'foo' in blist\n",
    "print 'food' in blist"
   ]
  },
  {
   "cell_type": "markdown",
   "metadata": {},
   "source": [
    "Let's look back at our empty list `alist`.  Say we don't have data for it when we initialize it, but now we've gotten some new items we want to add to the list.  You can do this using the list's attribute `append` or `extend`."
   ]
  },
  {
   "cell_type": "code",
   "execution_count": null,
   "metadata": {
    "collapsed": false
   },
   "outputs": [],
   "source": [
    "alist = list()\n",
    "print alist\n",
    "alist.append('foo')\n",
    "print alist\n",
    "alist.extend('foo')\n",
    "print alist"
   ]
  },
  {
   "cell_type": "markdown",
   "metadata": {},
   "source": [
    "Note that `append` adds the data contained in the parentheses as a list element.  However, extend treats the data as an iterable (i.e. an object on which to apply a function over each element).  So it adds each character in the \"foo\" string.\n",
    "\n",
    "Let's try an (im)practical example to dive a bit deeper into lists.  Say you need to make a list of the people you need to send Christmas cards to: Donny, Owen, Ian and Tom."
   ]
  },
  {
   "cell_type": "code",
   "execution_count": null,
   "metadata": {
    "collapsed": true
   },
   "outputs": [],
   "source": [
    "xmas = ['Donny', 'Owen','Ian','Tom']"
   ]
  },
  {
   "cell_type": "markdown",
   "metadata": {},
   "source": [
    "But wait! You forgot your list of people to send Hanukkah cards! That's David, Orin, Ilana and Talia"
   ]
  },
  {
   "cell_type": "code",
   "execution_count": null,
   "metadata": {
    "collapsed": true
   },
   "outputs": [],
   "source": [
    "hnkh = ['David', 'Orin', 'Ilana', 'Talia']"
   ]
  },
  {
   "cell_type": "markdown",
   "metadata": {},
   "source": [
    "It's too much to keep track of both these lists! Can't you just have one holiday card list? Yes you can!  Let's use .append()."
   ]
  },
  {
   "cell_type": "code",
   "execution_count": null,
   "metadata": {
    "collapsed": false
   },
   "outputs": [],
   "source": [
    "holiday = []\n",
    "holiday.append(xmas)\n",
    "holiday.append(hnkh)"
   ]
  },
  {
   "cell_type": "markdown",
   "metadata": {},
   "source": [
    "Note, now the indexing notation will give you each of your lists will give you the list."
   ]
  },
  {
   "cell_type": "code",
   "execution_count": null,
   "metadata": {
    "collapsed": false
   },
   "outputs": [],
   "source": [
    "print holiday\n",
    "print holiday[0]\n",
    "print holiday[1]"
   ]
  },
  {
   "cell_type": "markdown",
   "metadata": {},
   "source": [
    "We must go deeper! You can also specify locations within other locations (i.e. elements within a list element of a list)"
   ]
  },
  {
   "cell_type": "code",
   "execution_count": null,
   "metadata": {
    "collapsed": false
   },
   "outputs": [],
   "source": [
    "print holiday\n",
    "print holiday[1]\n",
    "print holiday[1][0]"
   ]
  },
  {
   "cell_type": "markdown",
   "metadata": {},
   "source": [
    "Say you decide you don't want to send a card to David anymore.  You can remove him from the list of cards to send using the `remove` attribute."
   ]
  },
  {
   "cell_type": "code",
   "execution_count": null,
   "metadata": {
    "collapsed": false
   },
   "outputs": [],
   "source": [
    "holiday[1].remove('David')\n",
    "print holiday"
   ]
  },
  {
   "cell_type": "markdown",
   "metadata": {},
   "source": [
    "With the example above, we're using an index to indicate which list we're referring to.  That's fine if we're able to remember which index refers to which list.  But python has a better way, allowing us to retrieve the list using a \"key\".  This is another data structure called a dictionary.\n",
    "\n",
    "## Dictionaries <a name=\"dict\"></a>\n",
    "A dictionary connects \"keys\" to \"values\".  Like a real-life dictionary, the \"key\" is the word, the \"value\" is the definition.\n",
    "\n",
    "To define an empty dictionary:"
   ]
  },
  {
   "cell_type": "code",
   "execution_count": null,
   "metadata": {
    "collapsed": false
   },
   "outputs": [],
   "source": [
    "adict = { }\n",
    "adict = dict( )\n",
    "print adict"
   ]
  },
  {
   "cell_type": "markdown",
   "metadata": {},
   "source": [
    "Like with a list, we can define the keys and values in a dictionary up front.  For a list we use square brackets, for a dictionary, we use curly brackets (or braces):"
   ]
  },
  {
   "cell_type": "code",
   "execution_count": null,
   "metadata": {
    "collapsed": false
   },
   "outputs": [],
   "source": [
    "bdict = {'key': 'value'}\n",
    "print bdict\n",
    "bdict = {'key': 'value', 'foo':'bar'}\n",
    "print bdict"
   ]
  },
  {
   "cell_type": "markdown",
   "metadata": {},
   "source": [
    "The data before the colon is the key, and the data after is the value.  To retrieve the value for the key, you use syntax similar to the indexing, except instead of numbers, you use the key."
   ]
  },
  {
   "cell_type": "code",
   "execution_count": null,
   "metadata": {
    "collapsed": false
   },
   "outputs": [],
   "source": [
    "print bdict['key']\n",
    "print bdict['foo']"
   ]
  },
  {
   "cell_type": "markdown",
   "metadata": {},
   "source": [
    "You can also add key-values and remove key-values:"
   ]
  },
  {
   "cell_type": "code",
   "execution_count": null,
   "metadata": {
    "collapsed": false
   },
   "outputs": [],
   "source": [
    "print bdict\n",
    "bdict['nyc'] = 'datascience'\n",
    "print bdict\n",
    "del bdict['key']\n",
    "print bdict"
   ]
  },
  {
   "cell_type": "markdown",
   "metadata": {},
   "source": [
    "Going back to our holiday card example, we can have each of our card lists stored under a descriptive key:"
   ]
  },
  {
   "cell_type": "code",
   "execution_count": null,
   "metadata": {
    "collapsed": false
   },
   "outputs": [],
   "source": [
    "print xmas\n",
    "print hnkh\n",
    "hdict = {'xmas': xmas, 'hnkh': hnkh}\n",
    "print hdict"
   ]
  },
  {
   "cell_type": "markdown",
   "metadata": {},
   "source": [
    "Here we have a with lists as values.  But we can also have a list with dictionaries as elements.  For this example, maybe we want to have a list of people with the type of card they should receive stored."
   ]
  },
  {
   "cell_type": "code",
   "execution_count": null,
   "metadata": {
    "collapsed": false
   },
   "outputs": [],
   "source": [
    "holidayCards = []\n",
    "p1 = {}\n",
    "p1['name'] = 'Donny'\n",
    "p1['cardType'] = 'xmas'\n",
    "print p1\n",
    "holidayCards.append(p1)\n",
    "p2 = {}\n",
    "p2['name'] = 'Orin'\n",
    "p2['cardType'] = 'hnkh'\n",
    "print p2\n",
    "holidayCards.append(p2)\n",
    "print holidayCards\n",
    "print holidayCards[0]\n",
    "print holidayCards[0]['name']"
   ]
  },
  {
   "cell_type": "markdown",
   "metadata": {},
   "source": [
    "Let's take this example further by controlling what will be executed and when.  This is called flow control and we'll look at some examples below."
   ]
  },
  {
   "cell_type": "markdown",
   "metadata": {},
   "source": [
    "## For loops <a name=\"for\"></a>\n",
    "For loops are a built-in function that allows Python to iterate over something, performing an action a certain number of times or with each element in an iterable (e.g. a list)."
   ]
  },
  {
   "cell_type": "code",
   "execution_count": null,
   "metadata": {
    "collapsed": false
   },
   "outputs": [],
   "source": [
    "group = [1, 2, 3]\n",
    "\n",
    "for x in group:\n",
    "    print x"
   ]
  },
  {
   "cell_type": "markdown",
   "metadata": {},
   "source": [
    "You can also iterate over other data types like dictionaries.  Note that if you specify a dictionary as your iterable, Python will iterate over its keys (not its values)."
   ]
  },
  {
   "cell_type": "code",
   "execution_count": null,
   "metadata": {
    "collapsed": false
   },
   "outputs": [],
   "source": [
    "adict = {}\n",
    "adict['foo'] = 'bar'\n",
    "adict['nyc'] = 'datascience'\n",
    "\n",
    "for key in adict:\n",
    "    print key\n",
    "    print adict[key]"
   ]
  },
  {
   "cell_type": "markdown",
   "metadata": {},
   "source": [
    "## While loops <a name=\"while\"></a>\n",
    "While loops continue to iterate while a specified condition is `True`.  These are tricky to use, because they'll continue to iterate forever if the condition is never `True`."
   ]
  },
  {
   "cell_type": "code",
   "execution_count": null,
   "metadata": {
    "collapsed": false
   },
   "outputs": [],
   "source": [
    "x = 0\n",
    "while x<10:\n",
    "    print x\n",
    "    x += 1    "
   ]
  },
  {
   "cell_type": "markdown",
   "metadata": {},
   "source": [
    "Note the neat bit of code trickery I pulled there.  `x += 1` is the same as `x = x+1`, but a bit more compact.  The loop iterated until x was no longer less than 10 (i.e. when `x == 10`).\n",
    "\n",
    "## if, elif, else <a name=\"if\"></a>\n",
    "A bread-and-butter flow control tool, if statements execute something if a condition is met (e.g. x = 10).  The `if` checks the condition and, if met, runs the lines indented below it.  If the condition is not met, it skips the indented line."
   ]
  },
  {
   "cell_type": "code",
   "execution_count": null,
   "metadata": {
    "collapsed": false
   },
   "outputs": [],
   "source": [
    "a = 1\n",
    "if a == 1:\n",
    "    print a\n",
    "    \n",
    "if a == 2:\n",
    "    print a"
   ]
  },
  {
   "cell_type": "markdown",
   "metadata": {},
   "source": [
    "Note, only in the first `if` statement did the print statement execute, because a == 1.  (Note the double-equals, which means exactly equal to).  \n",
    "\n",
    "`elif` allows you to specify a second condition, to be checked if the first one is not matched.  "
   ]
  },
  {
   "cell_type": "code",
   "execution_count": null,
   "metadata": {
    "collapsed": false
   },
   "outputs": [],
   "source": [
    "if a == 2:\n",
    "    print a+2\n",
    "elif a == 1:\n",
    "    print a+1"
   ]
  },
  {
   "cell_type": "markdown",
   "metadata": {},
   "source": [
    "If no condition is met, you can specify `else` as what to do with any other condition."
   ]
  },
  {
   "cell_type": "code",
   "execution_count": null,
   "metadata": {
    "collapsed": false
   },
   "outputs": [],
   "source": [
    "if a == 3:\n",
    "    print a+3\n",
    "elif a == 2:\n",
    "    print a+2\n",
    "else:\n",
    "    print a+1"
   ]
  },
  {
   "cell_type": "markdown",
   "metadata": {
    "collapsed": false
   },
   "source": [
    "Let's close this out with our holiday card example.  Let's say we want to loop through all the people on our lists and create a full holiday list of people, along with their associated holiday.  One way to do this would be:"
   ]
  },
  {
   "cell_type": "code",
   "execution_count": null,
   "metadata": {
    "collapsed": false
   },
   "outputs": [],
   "source": [
    "print xmas\n",
    "print hnkh\n",
    "#Yes! we can add lists\n",
    "print xmas+hnkh\n",
    "\n",
    "holidaycard = []\n",
    "for name in xmas+hnkh:\n",
    "    if name in xmas:\n",
    "        person = {'name':name, 'card':'xmas'}\n",
    "        holidaycard.append(person)\n",
    "    else:\n",
    "        person = {'name':name, 'card':'hnkh'}\n",
    "        holidaycard.append(person)\n",
    "print holidaycard"
   ]
  },
  {
   "cell_type": "markdown",
   "metadata": {},
   "source": [
    "In this example, we iterated over each name and checked if they were in the xmas list.  If they were, we added their name as a key linked to the value 'xmas'.  If they were not in the xmas list, we linked their name to the value 'hnkh'.  We could have also had an `elif` statement to check if they were in the hnkh list.  But since we only have two conditions here, either works fine.\n",
    "\n",
    "Now say it's time to send out those cards.  But we can't remember who gets what! How about we loop through our directory and print out who gets what:"
   ]
  },
  {
   "cell_type": "code",
   "execution_count": null,
   "metadata": {
    "collapsed": false
   },
   "outputs": [],
   "source": [
    "for person in holidaycard:\n",
    "    print person['name'] + \" gets a \" + person['card'] + \" card\""
   ]
  },
  {
   "cell_type": "markdown",
   "metadata": {},
   "source": [
    "For bonus points, figure out how to get this same output without using addition!"
   ]
  }
 ],
 "metadata": {
  "kernelspec": {
   "display_name": "Python 2",
   "language": "python",
   "name": "python2"
  },
  "language_info": {
   "codemirror_mode": {
    "name": "ipython",
    "version": 2
   },
   "file_extension": ".py",
   "mimetype": "text/x-python",
   "name": "python",
   "nbconvert_exporter": "python",
   "pygments_lexer": "ipython2",
   "version": "2.7.12"
  }
 },
 "nbformat": 4,
 "nbformat_minor": 0
}
